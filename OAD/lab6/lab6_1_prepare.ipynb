{
 "cells": [
  {
   "cell_type": "markdown",
   "metadata": {
    "id": "IHMINU8n5D1k"
   },
   "source": [
    "# Подготовка (pandas, numpy, etc)"
   ]
  },
  {
   "cell_type": "markdown",
   "metadata": {
    "id": "sWp-ogsB53sX"
   },
   "source": [
    "## numpy"
   ]
  },
  {
   "cell_type": "code",
   "execution_count": 1,
   "metadata": {
    "executionInfo": {
     "elapsed": 3215,
     "status": "ok",
     "timestamp": 1673730069482,
     "user": {
      "displayName": "Лев Барабанщиков (I Smartyy I)",
      "userId": "03927496533933058806"
     },
     "user_tz": -180
    },
    "id": "ZgNSXCJC7nWe"
   },
   "outputs": [],
   "source": [
    "import numpy as np\n",
    "import pandas as pd\n",
    "import matplotlib.pyplot as plt\n",
    "import seaborn as sns\n",
    "from sklearn.linear_model import LinearRegression\n",
    "from sklearn.model_selection import train_test_split\n",
    "from sklearn.metrics import mean_squared_error\n",
    "\n",
    "y_pred = np.array([0.9, 0.2, 0.1, 0.4, 0.9])\n",
    "y_ans = np.array([1, 0, 0, 1, 1])"
   ]
  },
  {
   "cell_type": "markdown",
   "metadata": {
    "id": "vXF2WP0M7F4E"
   },
   "source": [
    "### 1. $L_1$ норма\n",
    "Напишите функцию, которая для двух векторов вычисляет их $L_1$ норму (\"манхэттенское расстояние\" или \"расстояние городских кварталов\"):\n",
    "$$\\begin{align*} & L_1(y_{pred}, y) = \\sum_{i=0}^m|y^{(i)} - y_{pred}^{(i)}| \\end{align*}$$  "
   ]
  },
  {
   "cell_type": "code",
   "execution_count": 2,
   "metadata": {
    "colab": {
     "base_uri": "https://localhost:8080/",
     "height": 200
    },
    "executionInfo": {
     "elapsed": 9,
     "status": "error",
     "timestamp": 1673730069484,
     "user": {
      "displayName": "Лев Барабанщиков (I Smartyy I)",
      "userId": "03927496533933058806"
     },
     "user_tz": -180
    },
    "id": "LmjB_H9F7NNY",
    "outputId": "a6659e88-efb4-47c9-c3a7-79bcc3bc03e3"
   },
   "outputs": [],
   "source": [
    "def L1_norm(y_pred, y_ans): \n",
    "    zipped = zip(y_pred, y_ans)\n",
    "    total = sum(abs(a-b) for a,b in zipped)\n",
    "    return total\n",
    "\n",
    "assert round(L1_norm(y_pred, y_ans), 1) == 1.1, 'Неверно реализован расчёт'"
   ]
  },
  {
   "cell_type": "code",
   "execution_count": 3,
   "metadata": {
    "colab": {
     "base_uri": "https://localhost:8080/"
    },
    "executionInfo": {
     "elapsed": 219,
     "status": "ok",
     "timestamp": 1673730088151,
     "user": {
      "displayName": "Лев Барабанщиков (I Smartyy I)",
      "userId": "03927496533933058806"
     },
     "user_tz": -180
    },
    "id": "kUp31sa37QbK",
    "outputId": "4fbc8bcf-cd38-4228-b798-f345e886b8ed"
   },
   "outputs": [
    {
     "name": "stdout",
     "output_type": "stream",
     "text": [
      "L1 = 1.1\n"
     ]
    }
   ],
   "source": [
    "print(f\"L1 = {L1_norm(y_pred, y_ans)}\")"
   ]
  },
  {
   "cell_type": "markdown",
   "metadata": {
    "id": "g37SpdoE6K1Y"
   },
   "source": [
    "### 2. $L_2$ норма\n",
    "Напишите функцию, которая для двух векторов вычисляет их $L_2$ норму (евклидово расстояние):\n",
    "$$\\begin{align*} & L_2(y_{pred},y) = \\sum_{i=0}^m(y^{(i)} - y_{pred}^{(i)})^2 \\end{align*}$$"
   ]
  },
  {
   "cell_type": "code",
   "execution_count": 4,
   "metadata": {
    "colab": {
     "base_uri": "https://localhost:8080/",
     "height": 200
    },
    "executionInfo": {
     "elapsed": 280,
     "status": "error",
     "timestamp": 1673730079186,
     "user": {
      "displayName": "Лев Барабанщиков (I Smartyy I)",
      "userId": "03927496533933058806"
     },
     "user_tz": -180
    },
    "id": "XMBZCZzU4_8a",
    "outputId": "fb0ddefb-d0cc-4874-ab92-dd3a1fdf4b8e"
   },
   "outputs": [],
   "source": [
    "def L2_norm(y_pred, y_ans):\n",
    "    zipped = zip(y_pred, y_ans)\n",
    "    total = sum((a-b)**2 for a,b in zipped)\n",
    "    return total\n",
    "\n",
    "\n",
    "assert round(L2_norm(y_pred, y_ans), 3) == 0.43, 'Неверно реализован расчёт'"
   ]
  },
  {
   "cell_type": "code",
   "execution_count": 5,
   "metadata": {
    "colab": {
     "base_uri": "https://localhost:8080/"
    },
    "executionInfo": {
     "elapsed": 3,
     "status": "ok",
     "timestamp": 1673730079425,
     "user": {
      "displayName": "Лев Барабанщиков (I Smartyy I)",
      "userId": "03927496533933058806"
     },
     "user_tz": -180
    },
    "id": "sHmkty_H6FgK",
    "outputId": "65fac3a5-ec0f-4172-d6fe-5388956bdabf"
   },
   "outputs": [
    {
     "name": "stdout",
     "output_type": "stream",
     "text": [
      "L2 = 0.43\n"
     ]
    }
   ],
   "source": [
    "print(f\"L2 = {L2_norm(y_pred, y_ans)}\") "
   ]
  },
  {
   "cell_type": "markdown",
   "metadata": {
    "id": "8qghVnFM6Ugv"
   },
   "source": [
    "### 3. Строки с одинаковыми значениями\n",
    "Напишите функцию, которая для 2-мерной матрицы произвольного размера возвращает все строки, содержащие только одинаковые значения (напр. [2, 2, 2, 2])"
   ]
  },
  {
   "cell_type": "code",
   "execution_count": 12,
   "metadata": {
    "colab": {
     "base_uri": "https://localhost:8080/",
     "height": 153
    },
    "id": "5rRdScLe6pef",
    "outputId": "71a0f023-a6ba-4701-989c-e34c6646e392"
   },
   "outputs": [
    {
     "name": "stdout",
     "output_type": "stream",
     "text": [
      "[[3. 1. 4. 1. 2.]\n",
      " [0. 2. 0. 3. 1.]\n",
      " [2. 4. 1. 3. 2.]\n",
      " [2. 2. 4. 0. 2.]\n",
      " [2. 4. 0. 0. 0.]\n",
      " [3. 2. 2. 0. 3.]\n",
      " [1. 1. 1. 1. 1.]\n",
      " [0. 0. 0. 0. 0.]]\n"
     ]
    }
   ],
   "source": [
    "np.random.seed(777)\n",
    "Z = np.random.randint(0, 5, (6, 5))\n",
    "Z_eq = np.array((np.ones(5), np.zeros(5)))\n",
    "Z = np.vstack((Z, Z_eq))\n",
    "print(Z)"
   ]
  },
  {
   "cell_type": "code",
   "execution_count": 13,
   "metadata": {
    "id": "cAGqv6_H6ssy"
   },
   "outputs": [],
   "source": [
    "def all_the_same(X):\n",
    "    total = []\n",
    "    for row in X:\n",
    "        first = row[0]\n",
    "        if all(a==first for a in row):\n",
    "            total.append(row)\n",
    "    return total"
   ]
  },
  {
   "cell_type": "code",
   "execution_count": 14,
   "metadata": {
    "colab": {
     "base_uri": "https://localhost:8080/",
     "height": 68
    },
    "id": "D-NcLz056uwr",
    "outputId": "0d81b44d-c3aa-405c-b441-7a4a4a70ecaf"
   },
   "outputs": [
    {
     "name": "stdout",
     "output_type": "stream",
     "text": [
      "Строки с одинаковыми значениями:\n",
      " [array([1., 1., 1., 1., 1.]), array([0., 0., 0., 0., 0.])]\n"
     ]
    }
   ],
   "source": [
    "print(\"Строки с одинаковыми значениями:\\n\", all_the_same(Z))"
   ]
  },
  {
   "cell_type": "markdown",
   "metadata": {
    "id": "mNMmQVwb5821"
   },
   "source": [
    "## pandas"
   ]
  },
  {
   "cell_type": "markdown",
   "metadata": {
    "id": "zFu46WPqFGZt"
   },
   "source": [
    "__Прочитайте \"telecom_churn.csv\" в датафрейм__"
   ]
  },
  {
   "cell_type": "code",
   "execution_count": 17,
   "metadata": {
    "id": "6Pe19U8R8Q6z"
   },
   "outputs": [],
   "source": [
    "telecom = pd.read_csv('telecom_churn.csv')"
   ]
  },
  {
   "cell_type": "markdown",
   "metadata": {
    "id": "cAMRJ7QVFHD5"
   },
   "source": [
    "__Выведите первые 10 строк__"
   ]
  },
  {
   "cell_type": "code",
   "execution_count": 18,
   "metadata": {
    "id": "BGSU_K7oEyF8"
   },
   "outputs": [
    {
     "data": {
      "text/html": [
       "<div>\n",
       "<style scoped>\n",
       "    .dataframe tbody tr th:only-of-type {\n",
       "        vertical-align: middle;\n",
       "    }\n",
       "\n",
       "    .dataframe tbody tr th {\n",
       "        vertical-align: top;\n",
       "    }\n",
       "\n",
       "    .dataframe thead th {\n",
       "        text-align: right;\n",
       "    }\n",
       "</style>\n",
       "<table border=\"1\" class=\"dataframe\">\n",
       "  <thead>\n",
       "    <tr style=\"text-align: right;\">\n",
       "      <th></th>\n",
       "      <th>CustomerID</th>\n",
       "      <th>Churn</th>\n",
       "      <th>MonthlyRevenue</th>\n",
       "      <th>MonthlyMinutes</th>\n",
       "      <th>TotalRecurringCharge</th>\n",
       "      <th>DirectorAssistedCalls</th>\n",
       "      <th>OverageMinutes</th>\n",
       "      <th>RoamingCalls</th>\n",
       "      <th>PercChangeMinutes</th>\n",
       "      <th>PercChangeRevenues</th>\n",
       "      <th>...</th>\n",
       "      <th>ReferralsMadeBySubscriber</th>\n",
       "      <th>IncomeGroup</th>\n",
       "      <th>OwnsMotorcycle</th>\n",
       "      <th>AdjustmentsToCreditRating</th>\n",
       "      <th>HandsetPrice</th>\n",
       "      <th>MadeCallToRetentionTeam</th>\n",
       "      <th>CreditRating</th>\n",
       "      <th>PrizmCode</th>\n",
       "      <th>Occupation</th>\n",
       "      <th>MaritalStatus</th>\n",
       "    </tr>\n",
       "  </thead>\n",
       "  <tbody>\n",
       "    <tr>\n",
       "      <th>0</th>\n",
       "      <td>3000002</td>\n",
       "      <td>Yes</td>\n",
       "      <td>24.00</td>\n",
       "      <td>219.0</td>\n",
       "      <td>22.0</td>\n",
       "      <td>0.25</td>\n",
       "      <td>0.0</td>\n",
       "      <td>0.0</td>\n",
       "      <td>-157.0</td>\n",
       "      <td>-19.0</td>\n",
       "      <td>...</td>\n",
       "      <td>0</td>\n",
       "      <td>4</td>\n",
       "      <td>No</td>\n",
       "      <td>0</td>\n",
       "      <td>30</td>\n",
       "      <td>Yes</td>\n",
       "      <td>1-Highest</td>\n",
       "      <td>Suburban</td>\n",
       "      <td>Professional</td>\n",
       "      <td>No</td>\n",
       "    </tr>\n",
       "    <tr>\n",
       "      <th>1</th>\n",
       "      <td>3000010</td>\n",
       "      <td>Yes</td>\n",
       "      <td>16.99</td>\n",
       "      <td>10.0</td>\n",
       "      <td>17.0</td>\n",
       "      <td>0.00</td>\n",
       "      <td>0.0</td>\n",
       "      <td>0.0</td>\n",
       "      <td>-4.0</td>\n",
       "      <td>0.0</td>\n",
       "      <td>...</td>\n",
       "      <td>0</td>\n",
       "      <td>5</td>\n",
       "      <td>No</td>\n",
       "      <td>0</td>\n",
       "      <td>30</td>\n",
       "      <td>No</td>\n",
       "      <td>4-Medium</td>\n",
       "      <td>Suburban</td>\n",
       "      <td>Professional</td>\n",
       "      <td>Yes</td>\n",
       "    </tr>\n",
       "    <tr>\n",
       "      <th>2</th>\n",
       "      <td>3000014</td>\n",
       "      <td>No</td>\n",
       "      <td>38.00</td>\n",
       "      <td>8.0</td>\n",
       "      <td>38.0</td>\n",
       "      <td>0.00</td>\n",
       "      <td>0.0</td>\n",
       "      <td>0.0</td>\n",
       "      <td>-2.0</td>\n",
       "      <td>0.0</td>\n",
       "      <td>...</td>\n",
       "      <td>0</td>\n",
       "      <td>6</td>\n",
       "      <td>No</td>\n",
       "      <td>0</td>\n",
       "      <td>Unknown</td>\n",
       "      <td>No</td>\n",
       "      <td>3-Good</td>\n",
       "      <td>Town</td>\n",
       "      <td>Crafts</td>\n",
       "      <td>Yes</td>\n",
       "    </tr>\n",
       "    <tr>\n",
       "      <th>3</th>\n",
       "      <td>3000022</td>\n",
       "      <td>No</td>\n",
       "      <td>82.28</td>\n",
       "      <td>1312.0</td>\n",
       "      <td>75.0</td>\n",
       "      <td>1.24</td>\n",
       "      <td>0.0</td>\n",
       "      <td>0.0</td>\n",
       "      <td>157.0</td>\n",
       "      <td>8.1</td>\n",
       "      <td>...</td>\n",
       "      <td>0</td>\n",
       "      <td>6</td>\n",
       "      <td>No</td>\n",
       "      <td>0</td>\n",
       "      <td>10</td>\n",
       "      <td>No</td>\n",
       "      <td>4-Medium</td>\n",
       "      <td>Other</td>\n",
       "      <td>Other</td>\n",
       "      <td>No</td>\n",
       "    </tr>\n",
       "    <tr>\n",
       "      <th>4</th>\n",
       "      <td>3000026</td>\n",
       "      <td>Yes</td>\n",
       "      <td>17.14</td>\n",
       "      <td>0.0</td>\n",
       "      <td>17.0</td>\n",
       "      <td>0.00</td>\n",
       "      <td>0.0</td>\n",
       "      <td>0.0</td>\n",
       "      <td>0.0</td>\n",
       "      <td>-0.2</td>\n",
       "      <td>...</td>\n",
       "      <td>0</td>\n",
       "      <td>9</td>\n",
       "      <td>No</td>\n",
       "      <td>1</td>\n",
       "      <td>10</td>\n",
       "      <td>No</td>\n",
       "      <td>1-Highest</td>\n",
       "      <td>Other</td>\n",
       "      <td>Professional</td>\n",
       "      <td>Yes</td>\n",
       "    </tr>\n",
       "    <tr>\n",
       "      <th>5</th>\n",
       "      <td>3000030</td>\n",
       "      <td>No</td>\n",
       "      <td>38.05</td>\n",
       "      <td>682.0</td>\n",
       "      <td>52.0</td>\n",
       "      <td>0.25</td>\n",
       "      <td>0.0</td>\n",
       "      <td>0.0</td>\n",
       "      <td>148.0</td>\n",
       "      <td>-3.1</td>\n",
       "      <td>...</td>\n",
       "      <td>0</td>\n",
       "      <td>1</td>\n",
       "      <td>No</td>\n",
       "      <td>1</td>\n",
       "      <td>30</td>\n",
       "      <td>No</td>\n",
       "      <td>3-Good</td>\n",
       "      <td>Other</td>\n",
       "      <td>Other</td>\n",
       "      <td>Yes</td>\n",
       "    </tr>\n",
       "    <tr>\n",
       "      <th>6</th>\n",
       "      <td>3000038</td>\n",
       "      <td>No</td>\n",
       "      <td>31.66</td>\n",
       "      <td>26.0</td>\n",
       "      <td>30.0</td>\n",
       "      <td>0.25</td>\n",
       "      <td>0.0</td>\n",
       "      <td>0.0</td>\n",
       "      <td>60.0</td>\n",
       "      <td>4.0</td>\n",
       "      <td>...</td>\n",
       "      <td>0</td>\n",
       "      <td>9</td>\n",
       "      <td>No</td>\n",
       "      <td>1</td>\n",
       "      <td>30</td>\n",
       "      <td>No</td>\n",
       "      <td>1-Highest</td>\n",
       "      <td>Other</td>\n",
       "      <td>Self</td>\n",
       "      <td>Yes</td>\n",
       "    </tr>\n",
       "    <tr>\n",
       "      <th>7</th>\n",
       "      <td>3000042</td>\n",
       "      <td>No</td>\n",
       "      <td>62.13</td>\n",
       "      <td>98.0</td>\n",
       "      <td>66.0</td>\n",
       "      <td>2.48</td>\n",
       "      <td>0.0</td>\n",
       "      <td>0.0</td>\n",
       "      <td>24.0</td>\n",
       "      <td>6.8</td>\n",
       "      <td>...</td>\n",
       "      <td>0</td>\n",
       "      <td>6</td>\n",
       "      <td>No</td>\n",
       "      <td>0</td>\n",
       "      <td>30</td>\n",
       "      <td>No</td>\n",
       "      <td>1-Highest</td>\n",
       "      <td>Other</td>\n",
       "      <td>Professional</td>\n",
       "      <td>No</td>\n",
       "    </tr>\n",
       "    <tr>\n",
       "      <th>8</th>\n",
       "      <td>3000046</td>\n",
       "      <td>No</td>\n",
       "      <td>35.30</td>\n",
       "      <td>24.0</td>\n",
       "      <td>35.0</td>\n",
       "      <td>0.00</td>\n",
       "      <td>0.0</td>\n",
       "      <td>0.0</td>\n",
       "      <td>20.0</td>\n",
       "      <td>-0.3</td>\n",
       "      <td>...</td>\n",
       "      <td>0</td>\n",
       "      <td>9</td>\n",
       "      <td>No</td>\n",
       "      <td>0</td>\n",
       "      <td>80</td>\n",
       "      <td>No</td>\n",
       "      <td>1-Highest</td>\n",
       "      <td>Other</td>\n",
       "      <td>Other</td>\n",
       "      <td>Yes</td>\n",
       "    </tr>\n",
       "    <tr>\n",
       "      <th>9</th>\n",
       "      <td>3000050</td>\n",
       "      <td>No</td>\n",
       "      <td>81.00</td>\n",
       "      <td>1056.0</td>\n",
       "      <td>75.0</td>\n",
       "      <td>0.00</td>\n",
       "      <td>0.0</td>\n",
       "      <td>0.0</td>\n",
       "      <td>43.0</td>\n",
       "      <td>2.4</td>\n",
       "      <td>...</td>\n",
       "      <td>0</td>\n",
       "      <td>5</td>\n",
       "      <td>No</td>\n",
       "      <td>1</td>\n",
       "      <td>30</td>\n",
       "      <td>No</td>\n",
       "      <td>3-Good</td>\n",
       "      <td>Other</td>\n",
       "      <td>Professional</td>\n",
       "      <td>No</td>\n",
       "    </tr>\n",
       "  </tbody>\n",
       "</table>\n",
       "<p>10 rows × 58 columns</p>\n",
       "</div>"
      ],
      "text/plain": [
       "   CustomerID Churn  MonthlyRevenue  MonthlyMinutes  TotalRecurringCharge  \\\n",
       "0     3000002   Yes           24.00           219.0                  22.0   \n",
       "1     3000010   Yes           16.99            10.0                  17.0   \n",
       "2     3000014    No           38.00             8.0                  38.0   \n",
       "3     3000022    No           82.28          1312.0                  75.0   \n",
       "4     3000026   Yes           17.14             0.0                  17.0   \n",
       "5     3000030    No           38.05           682.0                  52.0   \n",
       "6     3000038    No           31.66            26.0                  30.0   \n",
       "7     3000042    No           62.13            98.0                  66.0   \n",
       "8     3000046    No           35.30            24.0                  35.0   \n",
       "9     3000050    No           81.00          1056.0                  75.0   \n",
       "\n",
       "   DirectorAssistedCalls  OverageMinutes  RoamingCalls  PercChangeMinutes  \\\n",
       "0                   0.25             0.0           0.0             -157.0   \n",
       "1                   0.00             0.0           0.0               -4.0   \n",
       "2                   0.00             0.0           0.0               -2.0   \n",
       "3                   1.24             0.0           0.0              157.0   \n",
       "4                   0.00             0.0           0.0                0.0   \n",
       "5                   0.25             0.0           0.0              148.0   \n",
       "6                   0.25             0.0           0.0               60.0   \n",
       "7                   2.48             0.0           0.0               24.0   \n",
       "8                   0.00             0.0           0.0               20.0   \n",
       "9                   0.00             0.0           0.0               43.0   \n",
       "\n",
       "   PercChangeRevenues  ...  ReferralsMadeBySubscriber  IncomeGroup  \\\n",
       "0               -19.0  ...                          0            4   \n",
       "1                 0.0  ...                          0            5   \n",
       "2                 0.0  ...                          0            6   \n",
       "3                 8.1  ...                          0            6   \n",
       "4                -0.2  ...                          0            9   \n",
       "5                -3.1  ...                          0            1   \n",
       "6                 4.0  ...                          0            9   \n",
       "7                 6.8  ...                          0            6   \n",
       "8                -0.3  ...                          0            9   \n",
       "9                 2.4  ...                          0            5   \n",
       "\n",
       "   OwnsMotorcycle  AdjustmentsToCreditRating  HandsetPrice  \\\n",
       "0              No                          0            30   \n",
       "1              No                          0            30   \n",
       "2              No                          0       Unknown   \n",
       "3              No                          0            10   \n",
       "4              No                          1            10   \n",
       "5              No                          1            30   \n",
       "6              No                          1            30   \n",
       "7              No                          0            30   \n",
       "8              No                          0            80   \n",
       "9              No                          1            30   \n",
       "\n",
       "   MadeCallToRetentionTeam  CreditRating  PrizmCode    Occupation  \\\n",
       "0                      Yes     1-Highest   Suburban  Professional   \n",
       "1                       No      4-Medium   Suburban  Professional   \n",
       "2                       No        3-Good       Town        Crafts   \n",
       "3                       No      4-Medium      Other         Other   \n",
       "4                       No     1-Highest      Other  Professional   \n",
       "5                       No        3-Good      Other         Other   \n",
       "6                       No     1-Highest      Other          Self   \n",
       "7                       No     1-Highest      Other  Professional   \n",
       "8                       No     1-Highest      Other         Other   \n",
       "9                       No        3-Good      Other  Professional   \n",
       "\n",
       "   MaritalStatus  \n",
       "0             No  \n",
       "1            Yes  \n",
       "2            Yes  \n",
       "3             No  \n",
       "4            Yes  \n",
       "5            Yes  \n",
       "6            Yes  \n",
       "7             No  \n",
       "8            Yes  \n",
       "9             No  \n",
       "\n",
       "[10 rows x 58 columns]"
      ]
     },
     "execution_count": 18,
     "metadata": {},
     "output_type": "execute_result"
    }
   ],
   "source": [
    "telecom.head(10)"
   ]
  },
  {
   "cell_type": "markdown",
   "metadata": {
    "id": "N7r6G8jzFH3D"
   },
   "source": [
    "__Выведите число объектов и колонок в датафрейме__"
   ]
  },
  {
   "cell_type": "code",
   "execution_count": 19,
   "metadata": {
    "id": "4-FSnnS4Ex52"
   },
   "outputs": [
    {
     "data": {
      "text/plain": [
       "(51047, 58)"
      ]
     },
     "execution_count": 19,
     "metadata": {},
     "output_type": "execute_result"
    }
   ],
   "source": [
    "telecom.shape"
   ]
  },
  {
   "cell_type": "markdown",
   "metadata": {
    "id": "pRn1CFfIFIhA"
   },
   "source": [
    "__Выведите названия всех колонок__"
   ]
  },
  {
   "cell_type": "code",
   "execution_count": 20,
   "metadata": {
    "id": "pvuudgd4ExtM"
   },
   "outputs": [
    {
     "data": {
      "text/plain": [
       "['CustomerID',\n",
       " 'Churn',\n",
       " 'MonthlyRevenue',\n",
       " 'MonthlyMinutes',\n",
       " 'TotalRecurringCharge',\n",
       " 'DirectorAssistedCalls',\n",
       " 'OverageMinutes',\n",
       " 'RoamingCalls',\n",
       " 'PercChangeMinutes',\n",
       " 'PercChangeRevenues',\n",
       " 'DroppedCalls',\n",
       " 'BlockedCalls',\n",
       " 'UnansweredCalls',\n",
       " 'CustomerCareCalls',\n",
       " 'ThreewayCalls',\n",
       " 'ReceivedCalls',\n",
       " 'OutboundCalls',\n",
       " 'InboundCalls',\n",
       " 'PeakCallsInOut',\n",
       " 'OffPeakCallsInOut',\n",
       " 'DroppedBlockedCalls',\n",
       " 'CallForwardingCalls',\n",
       " 'CallWaitingCalls',\n",
       " 'MonthsInService',\n",
       " 'UniqueSubs',\n",
       " 'ActiveSubs',\n",
       " 'ServiceArea',\n",
       " 'Handsets',\n",
       " 'HandsetModels',\n",
       " 'CurrentEquipmentDays',\n",
       " 'AgeHH1',\n",
       " 'AgeHH2',\n",
       " 'ChildrenInHH',\n",
       " 'HandsetRefurbished',\n",
       " 'HandsetWebCapable',\n",
       " 'TruckOwner',\n",
       " 'RVOwner',\n",
       " 'Homeownership',\n",
       " 'BuysViaMailOrder',\n",
       " 'RespondsToMailOffers',\n",
       " 'OptOutMailings',\n",
       " 'NonUSTravel',\n",
       " 'OwnsComputer',\n",
       " 'HasCreditCard',\n",
       " 'RetentionCalls',\n",
       " 'RetentionOffersAccepted',\n",
       " 'NewCellphoneUser',\n",
       " 'NotNewCellphoneUser',\n",
       " 'ReferralsMadeBySubscriber',\n",
       " 'IncomeGroup',\n",
       " 'OwnsMotorcycle',\n",
       " 'AdjustmentsToCreditRating',\n",
       " 'HandsetPrice',\n",
       " 'MadeCallToRetentionTeam',\n",
       " 'CreditRating',\n",
       " 'PrizmCode',\n",
       " 'Occupation',\n",
       " 'MaritalStatus']"
      ]
     },
     "execution_count": 20,
     "metadata": {},
     "output_type": "execute_result"
    }
   ],
   "source": [
    "telecom.columns.to_list()"
   ]
  },
  {
   "cell_type": "markdown",
   "metadata": {
    "id": "2qxHR0awFJIX"
   },
   "source": [
    "__Покажите все возможные значения поля UniqueSubs и их количества__"
   ]
  },
  {
   "cell_type": "code",
   "execution_count": 21,
   "metadata": {
    "id": "Nb6eZo6pExhB"
   },
   "outputs": [
    {
     "data": {
      "text/plain": [
       "UniqueSubs\n",
       "1      32109\n",
       "2      13852\n",
       "3       3212\n",
       "4       1219\n",
       "5        421\n",
       "6        147\n",
       "7         49\n",
       "9         12\n",
       "8         10\n",
       "10         6\n",
       "11         3\n",
       "12         3\n",
       "13         2\n",
       "18         1\n",
       "196        1\n",
       "Name: count, dtype: int64"
      ]
     },
     "execution_count": 21,
     "metadata": {},
     "output_type": "execute_result"
    }
   ],
   "source": [
    "telecom['UniqueSubs'].value_counts()"
   ]
  },
  {
   "cell_type": "markdown",
   "metadata": {
    "id": "RFv_crS4FJzv"
   },
   "source": [
    "__Сгруппируйте данные по полю MaritalStatus и посчитайте среднее для InboundCalls и OutboundCalls (ответ должен быть в виде таблицы)__"
   ]
  },
  {
   "cell_type": "code",
   "execution_count": 22,
   "metadata": {
    "id": "wp9stt4_ExTG"
   },
   "outputs": [
    {
     "data": {
      "text/html": [
       "<div>\n",
       "<style scoped>\n",
       "    .dataframe tbody tr th:only-of-type {\n",
       "        vertical-align: middle;\n",
       "    }\n",
       "\n",
       "    .dataframe tbody tr th {\n",
       "        vertical-align: top;\n",
       "    }\n",
       "\n",
       "    .dataframe thead th {\n",
       "        text-align: right;\n",
       "    }\n",
       "</style>\n",
       "<table border=\"1\" class=\"dataframe\">\n",
       "  <thead>\n",
       "    <tr style=\"text-align: right;\">\n",
       "      <th></th>\n",
       "      <th>MaritalStatus</th>\n",
       "      <th>InboundCalls</th>\n",
       "      <th>OutboundCalls</th>\n",
       "    </tr>\n",
       "  </thead>\n",
       "  <tbody>\n",
       "    <tr>\n",
       "      <th>0</th>\n",
       "      <td>No</td>\n",
       "      <td>8.620920</td>\n",
       "      <td>27.108688</td>\n",
       "    </tr>\n",
       "    <tr>\n",
       "      <th>1</th>\n",
       "      <td>Unknown</td>\n",
       "      <td>9.868609</td>\n",
       "      <td>29.655690</td>\n",
       "    </tr>\n",
       "    <tr>\n",
       "      <th>2</th>\n",
       "      <td>Yes</td>\n",
       "      <td>6.091089</td>\n",
       "      <td>19.680832</td>\n",
       "    </tr>\n",
       "  </tbody>\n",
       "</table>\n",
       "</div>"
      ],
      "text/plain": [
       "  MaritalStatus  InboundCalls  OutboundCalls\n",
       "0            No      8.620920      27.108688\n",
       "1       Unknown      9.868609      29.655690\n",
       "2           Yes      6.091089      19.680832"
      ]
     },
     "execution_count": 22,
     "metadata": {},
     "output_type": "execute_result"
    }
   ],
   "source": [
    "telecom.groupby('MaritalStatus')[['InboundCalls', 'OutboundCalls']].mean().reset_index()"
   ]
  },
  {
   "cell_type": "markdown",
   "metadata": {
    "id": "cWxky8hQ5Dcs"
   },
   "source": [
    "# Сама лаба"
   ]
  },
  {
   "cell_type": "markdown",
   "metadata": {
    "id": "951DjOrK7DwX"
   },
   "source": [
    "__Считайте данные и выведете первые 5 строк датасета (tips.csv)__"
   ]
  },
  {
   "cell_type": "code",
   "execution_count": 23,
   "metadata": {
    "id": "aKLBf4wd1f39"
   },
   "outputs": [
    {
     "data": {
      "text/html": [
       "<div>\n",
       "<style scoped>\n",
       "    .dataframe tbody tr th:only-of-type {\n",
       "        vertical-align: middle;\n",
       "    }\n",
       "\n",
       "    .dataframe tbody tr th {\n",
       "        vertical-align: top;\n",
       "    }\n",
       "\n",
       "    .dataframe thead th {\n",
       "        text-align: right;\n",
       "    }\n",
       "</style>\n",
       "<table border=\"1\" class=\"dataframe\">\n",
       "  <thead>\n",
       "    <tr style=\"text-align: right;\">\n",
       "      <th></th>\n",
       "      <th>total_bill</th>\n",
       "      <th>tip</th>\n",
       "      <th>sex</th>\n",
       "      <th>smoker</th>\n",
       "      <th>day</th>\n",
       "      <th>time</th>\n",
       "      <th>size</th>\n",
       "    </tr>\n",
       "  </thead>\n",
       "  <tbody>\n",
       "    <tr>\n",
       "      <th>0</th>\n",
       "      <td>16.99</td>\n",
       "      <td>1.01</td>\n",
       "      <td>Female</td>\n",
       "      <td>No</td>\n",
       "      <td>Sun</td>\n",
       "      <td>Dinner</td>\n",
       "      <td>2</td>\n",
       "    </tr>\n",
       "    <tr>\n",
       "      <th>1</th>\n",
       "      <td>10.34</td>\n",
       "      <td>1.66</td>\n",
       "      <td>Male</td>\n",
       "      <td>No</td>\n",
       "      <td>Sun</td>\n",
       "      <td>Dinner</td>\n",
       "      <td>3</td>\n",
       "    </tr>\n",
       "    <tr>\n",
       "      <th>2</th>\n",
       "      <td>21.01</td>\n",
       "      <td>3.50</td>\n",
       "      <td>Male</td>\n",
       "      <td>No</td>\n",
       "      <td>Sun</td>\n",
       "      <td>Dinner</td>\n",
       "      <td>3</td>\n",
       "    </tr>\n",
       "    <tr>\n",
       "      <th>3</th>\n",
       "      <td>23.68</td>\n",
       "      <td>3.31</td>\n",
       "      <td>Male</td>\n",
       "      <td>No</td>\n",
       "      <td>Sun</td>\n",
       "      <td>Dinner</td>\n",
       "      <td>2</td>\n",
       "    </tr>\n",
       "    <tr>\n",
       "      <th>4</th>\n",
       "      <td>24.59</td>\n",
       "      <td>3.61</td>\n",
       "      <td>Female</td>\n",
       "      <td>No</td>\n",
       "      <td>Sun</td>\n",
       "      <td>Dinner</td>\n",
       "      <td>4</td>\n",
       "    </tr>\n",
       "  </tbody>\n",
       "</table>\n",
       "</div>"
      ],
      "text/plain": [
       "   total_bill   tip     sex smoker  day    time  size\n",
       "0       16.99  1.01  Female     No  Sun  Dinner     2\n",
       "1       10.34  1.66    Male     No  Sun  Dinner     3\n",
       "2       21.01  3.50    Male     No  Sun  Dinner     3\n",
       "3       23.68  3.31    Male     No  Sun  Dinner     2\n",
       "4       24.59  3.61  Female     No  Sun  Dinner     4"
      ]
     },
     "execution_count": 23,
     "metadata": {},
     "output_type": "execute_result"
    }
   ],
   "source": [
    "tips = pd.read_csv('tips.csv')\n",
    "tips.head()"
   ]
  },
  {
   "cell_type": "markdown",
   "metadata": {
    "id": "CVoCuMlD7O0O"
   },
   "source": [
    "__Покажите на графике зависимость размера чаевых от времени и разделите это по полам__\n",
    "\n",
    "Использовать _catplot_"
   ]
  },
  {
   "cell_type": "code",
   "execution_count": 24,
   "metadata": {
    "id": "hUIsl7MS4D20"
   },
   "outputs": [
    {
     "data": {
      "image/png": "[encoded data removed]",
      "text/plain": [
       "<Figure size 600.25x500 with 1 Axes>"
      ]
     },
     "metadata": {},
     "output_type": "display_data"
    }
   ],
   "source": [
    "sns.catplot(x='time', y='tip', hue='sex', kind='bar', data=tips)\n",
    "plt.title('Зависимость размера чаевых от времени, разделенная по полам')\n",
    "plt.xlabel('Время')\n",
    "plt.ylabel('Размер чаевых')\n",
    "plt.show()"
   ]
  },
  {
   "cell_type": "markdown",
   "metadata": {
    "id": "Xpjdi7Uw7nYN"
   },
   "source": [
    "__Покажите на графике зависимость размера чаевых от полного счета и разделите это по полам__\n",
    "\n",
    "Использовать _lineplot_"
   ]
  },
  {
   "cell_type": "code",
   "execution_count": 25,
   "metadata": {
    "id": "wWOn_voP4EW6"
   },
   "outputs": [
    {
     "data": {
      "image/png": "[encoded data removed]",
      "text/plain": [
       "<Figure size 640x480 with 1 Axes>"
      ]
     },
     "metadata": {},
     "output_type": "display_data"
    }
   ],
   "source": [
    "sns.lineplot(x='total_bill', y='tip', hue='sex', data=tips)\n",
    "plt.title('Зависимость размера чаевых от полного счета, разделенная по полам')\n",
    "plt.xlabel('Размер чаевых')\n",
    "plt.ylabel('Размер полного счета')\n",
    "plt.show()"
   ]
  },
  {
   "cell_type": "code",
   "execution_count": 19,
   "metadata": {
    "colab": {
     "base_uri": "https://localhost:8080/",
     "height": 136
    },
    "id": "YKJtKFGX2W20",
    "outputId": "a26c9e84-1363-483d-dde8-021d49feb9b4"
   },
   "outputs": [
    {
     "name": "stdout",
     "output_type": "stream",
     "text": [
      "[[16.99 2 True ... False True False]\n",
      " [10.34 3 False ... False True False]\n",
      " [21.01 3 False ... False True False]\n",
      " ...\n",
      " [22.67 2 False ... False True False]\n",
      " [17.82 2 False ... False True False]\n",
      " [18.78 2 True ... True True False]]\n"
     ]
    }
   ],
   "source": [
    "#Просто выполните\n",
    "df = tips\n",
    "X_1 = df.drop(['tip', 'sex', 'smoker', 'day', 'time'], axis=1)\n",
    "X_2 = df.drop(['total_bill', 'size', 'tip'], axis=1)\n",
    "y = np.array(df.drop(['sex', 'total_bill', 'smoker', 'day', 'time', 'size'], axis=1).values)\n",
    "X_2_clear = pd.get_dummies(X_2)\n",
    "X = np.array(pd.concat([X_1,X_2_clear], axis=1).values)\n",
    "print(X)"
   ]
  },
  {
   "cell_type": "code",
   "execution_count": 20,
   "metadata": {
    "id": "6sxv-aJjxH_x"
   },
   "outputs": [],
   "source": [
    "#Просто выполните\n",
    "features = pd.concat([X_1, X_2_clear], axis=1)\n",
    "target = df.drop(['sex', 'total_bill', 'smoker', 'day', 'time', 'size'], axis=1)\n",
    "train_data, test_data, train_target, test_target = train_test_split(features, target, test_size = 0.3, random_state=0)"
   ]
  },
  {
   "cell_type": "markdown",
   "metadata": {
    "id": "gLgg5IIG_FtV"
   },
   "source": [
    "<font size=3 >__Немного теории__</font>\n",
    "\n",
    "Мы разберем __основные метрики качества и функционалы потерь__ задачи регрессии. Далее все будем называть __метриками__.\n",
    "\n",
    "__Метрики необходимы для:__\n",
    "- поиска оптимального решения\n",
    "- оценки качества работы модели\n",
    "- сравнения моделей\n",
    "- интерпретации результатов\n",
    "\n",
    "\n",
    "\n",
    "<table border=\"1\" width=\"100%\">\n",
    " <tr>\n",
    "    <td width=\"50%\"> \n",
    "        <p> <font size=3> $MAE= \\frac{1}{n} \\sum_{i=1}^n |y_i-\\hat{y_i}|$  </font> </p> \n",
    "        <p> \n",
    "            <font size=2> \n",
    "                <span style=\"color:green; margin-left:2em\">$ +$ </span>\n",
    "                легко интерпретировать \n",
    "            </font><br/>\n",
    "            <font size=2> \n",
    "                <span style=\"color:green; margin-left:2em\">$ +$ </span>\n",
    "                единицы измерения таргета и метрики – эквивалентны\n",
    "            </font><br/>\n",
    "            <font size=2> \n",
    "                <span style=\"color:green; margin-left:2em\">$ +$ </span>\n",
    "                устойчива к выбросам \n",
    "            </font><br/>\n",
    "            <font size=2> \n",
    "                <span style=\"color:red; margin-left:2em\">$ -$ </span>\n",
    "                не ограничена сверху \n",
    "            </font><br/>\n",
    "            <font size=2> \n",
    "                <span style=\"color:red; margin-left:2em\">$ -$ </span>\n",
    "                не дифференцируема в таком виде \n",
    "            </font>\n",
    "        </p><br/>\n",
    "        <p> <font size=3> $MSE= \\frac{1}{n} \\sum_{i=1}^n (y_i-\\hat{y_i})^2$  </font> </p> \n",
    "        <p> \n",
    "            <font size=2> \n",
    "                <span style=\"color:green; margin-left:2em\">$ +$ </span>\n",
    "                дифференцируема\n",
    "            </font><br/>\n",
    "            <font size=2> \n",
    "                <span style=\"color:green; margin-left:2em\">$ +$ </span>\n",
    "                чувствительна к выбросам\n",
    "            </font><br/>\n",
    "            <font size=2> \n",
    "                <span style=\"color:red; margin-left:2em\">$ -$ </span>\n",
    "                не ограничена сверху \n",
    "            </font><br/>\n",
    "            <font size=2> \n",
    "                <span style=\"color:red; margin-left:2em\">$ -$ </span>\n",
    "                сложно интерпретировать \n",
    "            </font><br/>\n",
    "        </p><br/>\n",
    "        <p> <font size=3> $RMSE=\\sqrt{\\frac{1}{n} \\sum_{i=1}^n (y_i-\\hat{y_i})^2} $  </font> </p> \n",
    "        <p> \n",
    "            <font size=2> \n",
    "                <span style=\"color:green; margin-left:2em\">$ +$ </span>\n",
    "                дифференцируема\n",
    "            </font><br/>\n",
    "            <font size=2> \n",
    "                <span style=\"color:red; margin-left:2em\">$ -$ </span>\n",
    "                не ограничена сверху \n",
    "            </font><br/>\n",
    "            <font size=2> \n",
    "                <span style=\"color:red; margin-left:2em\">$ -$ </span>\n",
    "                еще сложнее интерпретировать \n",
    "            </font>\n",
    "        <p>Основное различие $RMSE$ и $MAE$ заключается в том, что минимизация $RMSE$ сремиться к средней оценке, а  $MAE$ к медиане</p><br/><p>$y$ $-$ истинное значение; $\\hat{y}$ $-$ предсказанное значение</p>\n",
    "        </p><br/>\n",
    "     </td>\n",
    "    <td><img src=\"./errors_2.png\" align=\"right\"></td>\n",
    " </tr>\n",
    "</table>\n",
    "\n",
    "Две попытки __объединить__ положительные __свойства метрик__:\n",
    "- [Функция потерь Хьюбера](https://en.wikipedia.org/wiki/Huber_loss): \n",
    "    * ведет себя как $MSE$ на ошибках меньше $\\sigma$ и как $MAE$ в противном случае. __Что не дает \"взрываться\" метрике на больших значениях и \"жестко\" реагирует на маленькие остатки__\n",
    "    * все так же не удобно дифференцировать\n",
    "- [Log-Cosh Loss](https://heartbeat.fritz.ai/5-regression-loss-functions-all-machine-learners-should-know-4fb140e9d4b0):\n",
    "    * принимает меньшие значения по сравнению с функцией потерь Хьюбера на всем множестве\n",
    "    * __дважды дифференцируема__, что необходимо в некоторых методах численной оптимизации.\n",
    "________________________\n",
    "__Проблема:__ все предыдущие метрики __не подходят для оценки конкретного решения__ а только для сравнения моделей, что следует из того что __функции не ограничены сверху.__ \n",
    "\n",
    "Эта проблема так же решается посредством доработок $MAE$: [MAPE](https://en.wikipedia.org/wiki/Mean_absolute_percentage_error) и [SMAPE](https://en.wikipedia.org/wiki/Symmetric_mean_absolute_percentage_error). Однако, подробно рассмотрим метрику $R^2$\n",
    "и мотивы появления $R^2_{adj}$.\n",
    "\n",
    "$$R^2=1-\\frac{\\sum_{i=1}^n (y_i-\\hat{y_i})^2}{\\sum_{i=1}^n (y_i-\\bar{y_i})^2}$$\n",
    "\n",
    "Данная метрика обладает следующими свойствами:\n",
    "\n",
    "<font size=2> \n",
    "    <span style=\"color:green; margin-left:2em\">$ +$ </span>\n",
    "     ограничена сверху и снизу, что позволяет дать оценку конкретному решению без сравнения с другими\n",
    "</font><br/>\n",
    "<font size=2> \n",
    "    <span style=\"color:green; margin-left:2em\">$ +$ </span>\n",
    "     хорошо интерпретируется: на сколько наша модель лучше, чем константное решение\n",
    "</font><br/>\n",
    "<font size=2> \n",
    "    <span style=\"color:red; margin-left:2em\">$ -$ </span>\n",
    "     не диффиренцируема\n",
    "</font><br/>\n",
    "<font size=2> \n",
    "    <span style=\"color:red; margin-left:2em\">$ -$ </span>\n",
    "     значение метрики растет (не уменьшается) при добавлении новых переменных, даже если они никак не объясняют целевой показатель. Поэтому нельзя сравнивать модели с разным количеством признаков. Данная проблема решается с помощью $R^2_{adj}$\n",
    "</font>\n",
    "\n",
    "$$R^2_{adj}=1-(1-R^2)\\frac{n-1}{n-p-1}$$\n",
    "\n",
    "где $p -$ число признаков, а $n -$ количество объектов\n",
    "\n",
    "__Рекомендации:__ использовать $R^2_{adj}$ для сравнения моделей и оценки количества переменных, а $R^2$ для оценки качества на новых объектах\n",
    "\n",
    "\n",
    "__В данном задании вам необходимо реализовать 4 основные метрики:__ $MAE; MSE; RMSE; R^2$\n",
    "\n",
    "Каждая из метрик принимает на вход 2 одномерных numpy массива:\n",
    "- __y_true__ - истинные значения \n",
    "- __y_predict__ - предсказанные значения\n",
    "\n",
    "Каждая из функций должна возврашать одно число \n",
    "\n"
   ]
  },
  {
   "cell_type": "code",
   "execution_count": 21,
   "metadata": {
    "id": "zK8nNrD5-UZD"
   },
   "outputs": [],
   "source": [
    "def MAError(y_true, y_predict):\n",
    "    error = np.mean(np.abs(y_true - y_predict))\n",
    "    return error\n",
    "\n",
    "\n",
    "def MSError(y_true, y_predict):\n",
    "    error = np.mean((y_true - y_predict) ** 2)\n",
    "    return error\n",
    "\n",
    "\n",
    "def RMSError(y_true, y_predict):\n",
    "    error = np.sqrt(np.mean((y_true - y_predict) ** 2))\n",
    "    return error\n",
    "\n",
    "\n",
    "def R_square(y_true, y_predict):\n",
    "    ss_total = np.sum((y_true - np.mean(y_true)) ** 2)\n",
    "    ss_residual = np.sum((y_true - y_predict) ** 2)\n",
    "    error = 1 - (ss_residual / ss_total)\n",
    "    return error\n",
    "\n",
    "\n",
    "def all_metric(y_true, y_predict):\n",
    "    d = {}\n",
    "    d['MAE'] = [MAError(y_true, y_predict)] \n",
    "    d['MSE'] = [MSError(y_true, y_predict)] \n",
    "    d['RMSE'] = [RMSError(y_true, y_predict)]\n",
    "    d['R_square'] = [R_square(y_true, y_predict)]\n",
    "    return d"
   ]
  },
  {
   "cell_type": "markdown",
   "metadata": {
    "id": "mS84RM7yBlo-"
   },
   "source": [
    "__Обучим модель и сгенерируем данные для проверки функций ошибок__"
   ]
  },
  {
   "cell_type": "code",
   "execution_count": 22,
   "metadata": {
    "id": "WRKtLdjxBgTP"
   },
   "outputs": [],
   "source": [
    "from sklearn.linear_model import LogisticRegression\n",
    "from sklearn.datasets import load_diabetes\n",
    "from sklearn.preprocessing import StandardScaler\n",
    "from sklearn.model_selection import train_test_split"
   ]
  },
  {
   "cell_type": "code",
   "execution_count": 23,
   "metadata": {
    "id": "EZYqPIJMBjbf"
   },
   "outputs": [],
   "source": [
    "model = LogisticRegression(max_iter=5000)\n",
    "features, target = load_diabetes(return_X_y=True, as_frame=True)\n",
    "scaler = StandardScaler()"
   ]
  },
  {
   "cell_type": "code",
   "execution_count": 24,
   "metadata": {
    "id": "TrBVtCe8B6Vh"
   },
   "outputs": [],
   "source": [
    "X = scaler.fit_transform(features)\n",
    "\n",
    "full = pd.concat([features, target], axis=1)\n",
    "\n",
    "full_train, full_test = train_test_split(full, test_size=0.2, random_state=42, shuffle=True)\n",
    "\n",
    "y_train = full_train.target\n",
    "X_train = full_train.drop(\"target\", axis=1)"
   ]
  },
  {
   "cell_type": "code",
   "execution_count": 25,
   "metadata": {
    "colab": {
     "base_uri": "https://localhost:8080/"
    },
    "executionInfo": {
     "elapsed": 288,
     "status": "ok",
     "timestamp": 1673729288368,
     "user": {
      "displayName": "Лев Барабанщиков (I Smartyy I)",
      "userId": "03927496533933058806"
     },
     "user_tz": -180
    },
    "id": "_cTPccUafBkw",
    "outputId": "d5ebb737-d1d5-41c5-e678-aa4b88dae5f9"
   },
   "outputs": [
    {
     "data": {
      "text/html": [
       "<style>#sk-container-id-1 {\n",
       "  /* Definition of color scheme common for light and dark mode */\n",
       "  --sklearn-color-text: black;\n",
       "  --sklearn-color-line: gray;\n",
       "  /* Definition of color scheme for unfitted estimators */\n",
       "  --sklearn-color-unfitted-level-0: #fff5e6;\n",
       "  --sklearn-color-unfitted-level-1: #f6e4d2;\n",
       "  --sklearn-color-unfitted-level-2: #ffe0b3;\n",
       "  --sklearn-color-unfitted-level-3: chocolate;\n",
       "  /* Definition of color scheme for fitted estimators */\n",
       "  --sklearn-color-fitted-level-0: #f0f8ff;\n",
       "  --sklearn-color-fitted-level-1: #d4ebff;\n",
       "  --sklearn-color-fitted-level-2: #b3dbfd;\n",
       "  --sklearn-color-fitted-level-3: cornflowerblue;\n",
       "\n",
       "  /* Specific color for light theme */\n",
       "  --sklearn-color-text-on-default-background: var(--sg-text-color, var(--theme-code-foreground, var(--jp-content-font-color1, black)));\n",
       "  --sklearn-color-background: var(--sg-background-color, var(--theme-background, var(--jp-layout-color0, white)));\n",
       "  --sklearn-color-border-box: var(--sg-text-color, var(--theme-code-foreground, var(--jp-content-font-color1, black)));\n",
       "  --sklearn-color-icon: #696969;\n",
       "\n",
       "  @media (prefers-color-scheme: dark) {\n",
       "    /* Redefinition of color scheme for dark theme */\n",
       "    --sklearn-color-text-on-default-background: var(--sg-text-color, var(--theme-code-foreground, var(--jp-content-font-color1, white)));\n",
       "    --sklearn-color-background: var(--sg-background-color, var(--theme-background, var(--jp-layout-color0, #111)));\n",
       "    --sklearn-color-border-box: var(--sg-text-color, var(--theme-code-foreground, var(--jp-content-font-color1, white)));\n",
       "    --sklearn-color-icon: #878787;\n",
       "  }\n",
       "}\n",
       "\n",
       "#sk-container-id-1 {\n",
       "  color: var(--sklearn-color-text);\n",
       "}\n",
       "\n",
       "#sk-container-id-1 pre {\n",
       "  padding: 0;\n",
       "}\n",
       "\n",
       "#sk-container-id-1 input.sk-hidden--visually {\n",
       "  border: 0;\n",
       "  clip: rect(1px 1px 1px 1px);\n",
       "  clip: rect(1px, 1px, 1px, 1px);\n",
       "  height: 1px;\n",
       "  margin: -1px;\n",
       "  overflow: hidden;\n",
       "  padding: 0;\n",
       "  position: absolute;\n",
       "  width: 1px;\n",
       "}\n",
       "\n",
       "#sk-container-id-1 div.sk-dashed-wrapped {\n",
       "  border: 1px dashed var(--sklearn-color-line);\n",
       "  margin: 0 0.4em 0.5em 0.4em;\n",
       "  box-sizing: border-box;\n",
       "  padding-bottom: 0.4em;\n",
       "  background-color: var(--sklearn-color-background);\n",
       "}\n",
       "\n",
       "#sk-container-id-1 div.sk-container {\n",
       "  /* jupyter's `normalize.less` sets `[hidden] { display: none; }`\n",
       "     but bootstrap.min.css set `[hidden] { display: none !important; }`\n",
       "     so we also need the `!important` here to be able to override the\n",
       "     default hidden behavior on the sphinx rendered scikit-learn.org.\n",
       "     See: https://github.com/scikit-learn/scikit-learn/issues/21755 */\n",
       "  display: inline-block !important;\n",
       "  position: relative;\n",
       "}\n",
       "\n",
       "#sk-container-id-1 div.sk-text-repr-fallback {\n",
       "  display: none;\n",
       "}\n",
       "\n",
       "div.sk-parallel-item,\n",
       "div.sk-serial,\n",
       "div.sk-item {\n",
       "  /* draw centered vertical line to link estimators */\n",
       "  background-image: linear-gradient(var(--sklearn-color-text-on-default-background), var(--sklearn-color-text-on-default-background));\n",
       "  background-size: 2px 100%;\n",
       "  background-repeat: no-repeat;\n",
       "  background-position: center center;\n",
       "}\n",
       "\n",
       "/* Parallel-specific style estimator block */\n",
       "\n",
       "#sk-container-id-1 div.sk-parallel-item::after {\n",
       "  content: \"\";\n",
       "  width: 100%;\n",
       "  border-bottom: 2px solid var(--sklearn-color-text-on-default-background);\n",
       "  flex-grow: 1;\n",
       "}\n",
       "\n",
       "#sk-container-id-1 div.sk-parallel {\n",
       "  display: flex;\n",
       "  align-items: stretch;\n",
       "  justify-content: center;\n",
       "  background-color: var(--sklearn-color-background);\n",
       "  position: relative;\n",
       "}\n",
       "\n",
       "#sk-container-id-1 div.sk-parallel-item {\n",
       "  display: flex;\n",
       "  flex-direction: column;\n",
       "}\n",
       "\n",
       "#sk-container-id-1 div.sk-parallel-item:first-child::after {\n",
       "  align-self: flex-end;\n",
       "  width: 50%;\n",
       "}\n",
       "\n",
       "#sk-container-id-1 div.sk-parallel-item:last-child::after {\n",
       "  align-self: flex-start;\n",
       "  width: 50%;\n",
       "}\n",
       "\n",
       "#sk-container-id-1 div.sk-parallel-item:only-child::after {\n",
       "  width: 0;\n",
       "}\n",
       "\n",
       "/* Serial-specific style estimator block */\n",
       "\n",
       "#sk-container-id-1 div.sk-serial {\n",
       "  display: flex;\n",
       "  flex-direction: column;\n",
       "  align-items: center;\n",
       "  background-color: var(--sklearn-color-background);\n",
       "  padding-right: 1em;\n",
       "  padding-left: 1em;\n",
       "}\n",
       "\n",
       "\n",
       "/* Toggleable style: style used for estimator/Pipeline/ColumnTransformer box that is\n",
       "clickable and can be expanded/collapsed.\n",
       "- Pipeline and ColumnTransformer use this feature and define the default style\n",
       "- Estimators will overwrite some part of the style using the `sk-estimator` class\n",
       "*/\n",
       "\n",
       "/* Pipeline and ColumnTransformer style (default) */\n",
       "\n",
       "#sk-container-id-1 div.sk-toggleable {\n",
       "  /* Default theme specific background. It is overwritten whether we have a\n",
       "  specific estimator or a Pipeline/ColumnTransformer */\n",
       "  background-color: var(--sklearn-color-background);\n",
       "}\n",
       "\n",
       "/* Toggleable label */\n",
       "#sk-container-id-1 label.sk-toggleable__label {\n",
       "  cursor: pointer;\n",
       "  display: block;\n",
       "  width: 100%;\n",
       "  margin-bottom: 0;\n",
       "  padding: 0.5em;\n",
       "  box-sizing: border-box;\n",
       "  text-align: center;\n",
       "}\n",
       "\n",
       "#sk-container-id-1 label.sk-toggleable__label-arrow:before {\n",
       "  /* Arrow on the left of the label */\n",
       "  content: \"▸\";\n",
       "  float: left;\n",
       "  margin-right: 0.25em;\n",
       "  color: var(--sklearn-color-icon);\n",
       "}\n",
       "\n",
       "#sk-container-id-1 label.sk-toggleable__label-arrow:hover:before {\n",
       "  color: var(--sklearn-color-text);\n",
       "}\n",
       "\n",
       "/* Toggleable content - dropdown */\n",
       "\n",
       "#sk-container-id-1 div.sk-toggleable__content {\n",
       "  max-height: 0;\n",
       "  max-width: 0;\n",
       "  overflow: hidden;\n",
       "  text-align: left;\n",
       "  /* unfitted */\n",
       "  background-color: var(--sklearn-color-unfitted-level-0);\n",
       "}\n",
       "\n",
       "#sk-container-id-1 div.sk-toggleable__content.fitted {\n",
       "  /* fitted */\n",
       "  background-color: var(--sklearn-color-fitted-level-0);\n",
       "}\n",
       "\n",
       "#sk-container-id-1 div.sk-toggleable__content pre {\n",
       "  margin: 0.2em;\n",
       "  border-radius: 0.25em;\n",
       "  color: var(--sklearn-color-text);\n",
       "  /* unfitted */\n",
       "  background-color: var(--sklearn-color-unfitted-level-0);\n",
       "}\n",
       "\n",
       "#sk-container-id-1 div.sk-toggleable__content.fitted pre {\n",
       "  /* unfitted */\n",
       "  background-color: var(--sklearn-color-fitted-level-0);\n",
       "}\n",
       "\n",
       "#sk-container-id-1 input.sk-toggleable__control:checked~div.sk-toggleable__content {\n",
       "  /* Expand drop-down */\n",
       "  max-height: 200px;\n",
       "  max-width: 100%;\n",
       "  overflow: auto;\n",
       "}\n",
       "\n",
       "#sk-container-id-1 input.sk-toggleable__control:checked~label.sk-toggleable__label-arrow:before {\n",
       "  content: \"▾\";\n",
       "}\n",
       "\n",
       "/* Pipeline/ColumnTransformer-specific style */\n",
       "\n",
       "#sk-container-id-1 div.sk-label input.sk-toggleable__control:checked~label.sk-toggleable__label {\n",
       "  color: var(--sklearn-color-text);\n",
       "  background-color: var(--sklearn-color-unfitted-level-2);\n",
       "}\n",
       "\n",
       "#sk-container-id-1 div.sk-label.fitted input.sk-toggleable__control:checked~label.sk-toggleable__label {\n",
       "  background-color: var(--sklearn-color-fitted-level-2);\n",
       "}\n",
       "\n",
       "/* Estimator-specific style */\n",
       "\n",
       "/* Colorize estimator box */\n",
       "#sk-container-id-1 div.sk-estimator input.sk-toggleable__control:checked~label.sk-toggleable__label {\n",
       "  /* unfitted */\n",
       "  background-color: var(--sklearn-color-unfitted-level-2);\n",
       "}\n",
       "\n",
       "#sk-container-id-1 div.sk-estimator.fitted input.sk-toggleable__control:checked~label.sk-toggleable__label {\n",
       "  /* fitted */\n",
       "  background-color: var(--sklearn-color-fitted-level-2);\n",
       "}\n",
       "\n",
       "#sk-container-id-1 div.sk-label label.sk-toggleable__label,\n",
       "#sk-container-id-1 div.sk-label label {\n",
       "  /* The background is the default theme color */\n",
       "  color: var(--sklearn-color-text-on-default-background);\n",
       "}\n",
       "\n",
       "/* On hover, darken the color of the background */\n",
       "#sk-container-id-1 div.sk-label:hover label.sk-toggleable__label {\n",
       "  color: var(--sklearn-color-text);\n",
       "  background-color: var(--sklearn-color-unfitted-level-2);\n",
       "}\n",
       "\n",
       "/* Label box, darken color on hover, fitted */\n",
       "#sk-container-id-1 div.sk-label.fitted:hover label.sk-toggleable__label.fitted {\n",
       "  color: var(--sklearn-color-text);\n",
       "  background-color: var(--sklearn-color-fitted-level-2);\n",
       "}\n",
       "\n",
       "/* Estimator label */\n",
       "\n",
       "#sk-container-id-1 div.sk-label label {\n",
       "  font-family: monospace;\n",
       "  font-weight: bold;\n",
       "  display: inline-block;\n",
       "  line-height: 1.2em;\n",
       "}\n",
       "\n",
       "#sk-container-id-1 div.sk-label-container {\n",
       "  text-align: center;\n",
       "}\n",
       "\n",
       "/* Estimator-specific */\n",
       "#sk-container-id-1 div.sk-estimator {\n",
       "  font-family: monospace;\n",
       "  border: 1px dotted var(--sklearn-color-border-box);\n",
       "  border-radius: 0.25em;\n",
       "  box-sizing: border-box;\n",
       "  margin-bottom: 0.5em;\n",
       "  /* unfitted */\n",
       "  background-color: var(--sklearn-color-unfitted-level-0);\n",
       "}\n",
       "\n",
       "#sk-container-id-1 div.sk-estimator.fitted {\n",
       "  /* fitted */\n",
       "  background-color: var(--sklearn-color-fitted-level-0);\n",
       "}\n",
       "\n",
       "/* on hover */\n",
       "#sk-container-id-1 div.sk-estimator:hover {\n",
       "  /* unfitted */\n",
       "  background-color: var(--sklearn-color-unfitted-level-2);\n",
       "}\n",
       "\n",
       "#sk-container-id-1 div.sk-estimator.fitted:hover {\n",
       "  /* fitted */\n",
       "  background-color: var(--sklearn-color-fitted-level-2);\n",
       "}\n",
       "\n",
       "/* Specification for estimator info (e.g. \"i\" and \"?\") */\n",
       "\n",
       "/* Common style for \"i\" and \"?\" */\n",
       "\n",
       ".sk-estimator-doc-link,\n",
       "a:link.sk-estimator-doc-link,\n",
       "a:visited.sk-estimator-doc-link {\n",
       "  float: right;\n",
       "  font-size: smaller;\n",
       "  line-height: 1em;\n",
       "  font-family: monospace;\n",
       "  background-color: var(--sklearn-color-background);\n",
       "  border-radius: 1em;\n",
       "  height: 1em;\n",
       "  width: 1em;\n",
       "  text-decoration: none !important;\n",
       "  margin-left: 1ex;\n",
       "  /* unfitted */\n",
       "  border: var(--sklearn-color-unfitted-level-1) 1pt solid;\n",
       "  color: var(--sklearn-color-unfitted-level-1);\n",
       "}\n",
       "\n",
       ".sk-estimator-doc-link.fitted,\n",
       "a:link.sk-estimator-doc-link.fitted,\n",
       "a:visited.sk-estimator-doc-link.fitted {\n",
       "  /* fitted */\n",
       "  border: var(--sklearn-color-fitted-level-1) 1pt solid;\n",
       "  color: var(--sklearn-color-fitted-level-1);\n",
       "}\n",
       "\n",
       "/* On hover */\n",
       "div.sk-estimator:hover .sk-estimator-doc-link:hover,\n",
       ".sk-estimator-doc-link:hover,\n",
       "div.sk-label-container:hover .sk-estimator-doc-link:hover,\n",
       ".sk-estimator-doc-link:hover {\n",
       "  /* unfitted */\n",
       "  background-color: var(--sklearn-color-unfitted-level-3);\n",
       "  color: var(--sklearn-color-background);\n",
       "  text-decoration: none;\n",
       "}\n",
       "\n",
       "div.sk-estimator.fitted:hover .sk-estimator-doc-link.fitted:hover,\n",
       ".sk-estimator-doc-link.fitted:hover,\n",
       "div.sk-label-container:hover .sk-estimator-doc-link.fitted:hover,\n",
       ".sk-estimator-doc-link.fitted:hover {\n",
       "  /* fitted */\n",
       "  background-color: var(--sklearn-color-fitted-level-3);\n",
       "  color: var(--sklearn-color-background);\n",
       "  text-decoration: none;\n",
       "}\n",
       "\n",
       "/* Span, style for the box shown on hovering the info icon */\n",
       ".sk-estimator-doc-link span {\n",
       "  display: none;\n",
       "  z-index: 9999;\n",
       "  position: relative;\n",
       "  font-weight: normal;\n",
       "  right: .2ex;\n",
       "  padding: .5ex;\n",
       "  margin: .5ex;\n",
       "  width: min-content;\n",
       "  min-width: 20ex;\n",
       "  max-width: 50ex;\n",
       "  color: var(--sklearn-color-text);\n",
       "  box-shadow: 2pt 2pt 4pt #999;\n",
       "  /* unfitted */\n",
       "  background: var(--sklearn-color-unfitted-level-0);\n",
       "  border: .5pt solid var(--sklearn-color-unfitted-level-3);\n",
       "}\n",
       "\n",
       ".sk-estimator-doc-link.fitted span {\n",
       "  /* fitted */\n",
       "  background: var(--sklearn-color-fitted-level-0);\n",
       "  border: var(--sklearn-color-fitted-level-3);\n",
       "}\n",
       "\n",
       ".sk-estimator-doc-link:hover span {\n",
       "  display: block;\n",
       "}\n",
       "\n",
       "/* \"?\"-specific style due to the `<a>` HTML tag */\n",
       "\n",
       "#sk-container-id-1 a.estimator_doc_link {\n",
       "  float: right;\n",
       "  font-size: 1rem;\n",
       "  line-height: 1em;\n",
       "  font-family: monospace;\n",
       "  background-color: var(--sklearn-color-background);\n",
       "  border-radius: 1rem;\n",
       "  height: 1rem;\n",
       "  width: 1rem;\n",
       "  text-decoration: none;\n",
       "  /* unfitted */\n",
       "  color: var(--sklearn-color-unfitted-level-1);\n",
       "  border: var(--sklearn-color-unfitted-level-1) 1pt solid;\n",
       "}\n",
       "\n",
       "#sk-container-id-1 a.estimator_doc_link.fitted {\n",
       "  /* fitted */\n",
       "  border: var(--sklearn-color-fitted-level-1) 1pt solid;\n",
       "  color: var(--sklearn-color-fitted-level-1);\n",
       "}\n",
       "\n",
       "/* On hover */\n",
       "#sk-container-id-1 a.estimator_doc_link:hover {\n",
       "  /* unfitted */\n",
       "  background-color: var(--sklearn-color-unfitted-level-3);\n",
       "  color: var(--sklearn-color-background);\n",
       "  text-decoration: none;\n",
       "}\n",
       "\n",
       "#sk-container-id-1 a.estimator_doc_link.fitted:hover {\n",
       "  /* fitted */\n",
       "  background-color: var(--sklearn-color-fitted-level-3);\n",
       "}\n",
       "</style><div id=\"sk-container-id-1\" class=\"sk-top-container\"><div class=\"sk-text-repr-fallback\"><pre>LogisticRegression(max_iter=5000)</pre><b>In a Jupyter environment, please rerun this cell to show the HTML representation or trust the notebook. <br />On GitHub, the HTML representation is unable to render, please try loading this page with nbviewer.org.</b></div><div class=\"sk-container\" hidden><div class=\"sk-item\"><div class=\"sk-estimator fitted sk-toggleable\"><input class=\"sk-toggleable__control sk-hidden--visually\" id=\"sk-estimator-id-1\" type=\"checkbox\" checked><label for=\"sk-estimator-id-1\" class=\"sk-toggleable__label fitted sk-toggleable__label-arrow fitted\">&nbsp;&nbsp;LogisticRegression<a class=\"sk-estimator-doc-link fitted\" rel=\"noreferrer\" target=\"_blank\" href=\"https://scikit-learn.org/1.5/modules/generated/sklearn.linear_model.LogisticRegression.html\">?<span>Documentation for LogisticRegression</span></a><span class=\"sk-estimator-doc-link fitted\">i<span>Fitted</span></span></label><div class=\"sk-toggleable__content fitted\"><pre>LogisticRegression(max_iter=5000)</pre></div> </div></div></div></div>"
      ],
      "text/plain": [
       "LogisticRegression(max_iter=5000)"
      ]
     },
     "execution_count": 25,
     "metadata": {},
     "output_type": "execute_result"
    }
   ],
   "source": [
    "model.fit(X_train, y_train)"
   ]
  },
  {
   "cell_type": "code",
   "execution_count": 26,
   "metadata": {
    "id": "nexlT7SEfZg5"
   },
   "outputs": [],
   "source": [
    "X_test = full_test.drop(\"target\", axis=1)\n",
    "y_test = full_test.target"
   ]
  },
  {
   "cell_type": "code",
   "execution_count": 27,
   "metadata": {
    "id": "SVO6ub02ftsL"
   },
   "outputs": [],
   "source": [
    "y_pred = model.predict(X_test)"
   ]
  },
  {
   "cell_type": "code",
   "execution_count": 28,
   "metadata": {
    "id": "55557ILofwuS"
   },
   "outputs": [],
   "source": [
    "from sklearn.metrics import mean_absolute_error, mean_squared_error, r2_score"
   ]
  },
  {
   "cell_type": "code",
   "execution_count": 29,
   "metadata": {
    "id": "x5L2qHxlgeaB"
   },
   "outputs": [
    {
     "name": "stderr",
     "output_type": "stream",
     "text": [
      "C:\\Users\\bkate\\AppData\\Local\\Programs\\Python\\Python313\\Lib\\site-packages\\sklearn\\metrics\\_regression.py:492: FutureWarning: 'squared' is deprecated in version 1.4 and will be removed in 1.6. To calculate the root mean squared error, use the function'root_mean_squared_error'.\n",
      "  warnings.warn(\n"
     ]
    }
   ],
   "source": [
    "assert round(MAError(y_true=y_test, y_predict=y_pred), 3) == round(mean_absolute_error(y_test, y_pred), 3), 'Неверно реализован расчёт'\n",
    "\n",
    "assert round(MSError(y_true=y_test, y_predict=y_pred), 3) == round(mean_squared_error(y_test, y_pred), 3), 'Неверно реализован расчёт'\n",
    "\n",
    "assert round(RMSError(y_true=y_test, y_predict=y_pred), 3) == round(mean_squared_error(y_test, y_pred, squared=False), 3), 'Неверно реализован расчёт'\n",
    "\n",
    "assert round(R_square(y_true=y_test, y_predict=y_pred), 3) == round(r2_score(y_test, y_pred), 3), 'Неверно реализован расчёт'"
   ]
  },
  {
   "cell_type": "markdown",
   "metadata": {
    "id": "v0dkjqe7A7xi"
   },
   "source": [
    "Линейная регрессия - один из наиболее хорошо изученных методов машинного обучения, позволяющий прогнозировать значения количественного признака в виде линейной комбинации прочих признаков с параметрами - весами модели. Оптимальные (в смысле минимальности некоторого функционала ошибки) параметры линейной регрессии можно найти аналитически с помощью нормального уравнения или численно с помощью методов оптимизации.  \n",
    "\n",
    "Линейная регрессия использует простой функционал качества - среднеквадратичную ошибку. Мы будем работать с выборкой, содержащей 3 признака. Для настройки параметров (весов) модели решается следующая задача:\n",
    "$$\\Large \\frac{1}{\\ell}\\sum_{i=1}^\\ell{{((w_0 + w_1x_{i1} + w_2x_{i2} +  w_3x_{i3}) - y_i)}^2} \\rightarrow \\min_{w_0, w_1, w_2, w_3},$$\n",
    "где $x_{i1}, x_{i2}, x_{i3}$ - значения признаков $i$-го объекта, $y_i$ - значение целевого признака $i$-го объекта, $\\ell$ - число объектов в обучающей выборке."
   ]
  },
  {
   "cell_type": "markdown",
   "metadata": {
    "id": "Txu1pMe0CT2E"
   },
   "source": [
    "Нахождение вектора оптимальных весов $w$ может быть сделано и аналитически.\n",
    "Мы хотим найти такой вектор весов $w$, чтобы вектор $y$, приближающий целевой признак, получался умножением матрицы $X$ (состоящей из всех признаков объектов обучающей выборки, кроме целевого) на вектор весов $w$. То есть, чтобы выполнялось матричное уравнение:\n",
    "$$\\Large y = Xw$$\n",
    "Домножением слева на $X^T$ получаем:\n",
    "$$\\Large X^Ty = X^TXw$$\n",
    "Это хорошо, поскольку теперь матрица $X^TX$ - квадратная, и можно найти решение (вектор $w$) в виде:\n",
    "$$\\Large w = {(X^TX)}^{-1}X^Ty$$\n",
    "\n",
    "\n",
    "Но все же на практике для больших матриц $X$ быстрее работает градиентный спуск, особенно его стохастическая версия."
   ]
  },
  {
   "cell_type": "markdown",
   "metadata": {
    "id": "ayNfj3es8RLr"
   },
   "source": [
    "__Реализуйте функции__\n",
    "1. __normal_equation__, которая по заданным матрицам (массивам NumPy) X* и *y вычисляет вектор весов  𝑤  согласно нормальному уравнению линейной регрессии.\n",
    "\n",
    "2. __linear_prediction__, которая принимает на вход матрицу X* и вектор весов линейной модели *w, а возвращает вектор прогнозов в виде линейной комбинации столбцов матрицы X* с весами *w."
   ]
  },
  {
   "cell_type": "code",
   "execution_count": 30,
   "metadata": {
    "colab": {
     "base_uri": "https://localhost:8080/",
     "height": 221
    },
    "id": "EQrLxLXkBBny",
    "outputId": "82a39b4b-4d92-4033-eb04-d7f4d5651f44"
   },
   "outputs": [
    {
     "name": "stdout",
     "output_type": "stream",
     "text": [
      "                          tip\n",
      "total_bill   967034374.486867\n",
      "size          112760931.21247\n",
      "sex_Female    12052060.611155\n",
      "sex_Male       28025037.05044\n",
      "smoker_No      25158477.31964\n",
      "smoker_Yes    14918620.341955\n",
      "day_Fri         1997555.61033\n",
      "day_Sat        14955107.33803\n",
      "day_Sun       12987129.729495\n",
      "day_Thur       10137304.98374\n",
      "time_Dinner    29661920.41105\n",
      "time_Lunch    10415177.250545\n"
     ]
    }
   ],
   "source": [
    "def normal_equation(X, y):\n",
    "    # Использование псевдообратной матрицы для вычисления весов w\n",
    "    X_transpose = X.T\n",
    "    w = X_transpose @ X @ X_transpose @ y\n",
    "    return w\n",
    "\n",
    "\n",
    "def linear_prediction(X, w):\n",
    "    # Вычисление предсказаний на основе матрицы признаков X и весов w\n",
    "    ans = X @ w\n",
    "    return ans\n",
    "\n",
    "\n",
    "norm_eq_weights = normal_equation(train_data, train_target)\n",
    "print(norm_eq_weights)"
   ]
  },
  {
   "cell_type": "code",
   "execution_count": 31,
   "metadata": {
    "colab": {
     "base_uri": "https://localhost:8080/"
    },
    "executionInfo": {
     "elapsed": 2,
     "status": "ok",
     "timestamp": 1673729654802,
     "user": {
      "displayName": "Лев Барабанщиков (I Smartyy I)",
      "userId": "03927496533933058806"
     },
     "user_tz": -180
    },
    "id": "GM7Jz5_jECAk",
    "outputId": "e48b52e2-e4e5-4344-e713-45fb121b5c44"
   },
   "outputs": [
    {
     "name": "stdout",
     "output_type": "stream",
     "text": [
      "4.249940482002682e+20\n"
     ]
    }
   ],
   "source": [
    "tip_pred = MSError(test_target.to_numpy(), linear_prediction(test_data.to_numpy(), norm_eq_weights))\n",
    "print(tip_pred)\n",
    "\n",
    "assert round(MSError(test_target.to_numpy(), linear_prediction(test_data.to_numpy(), norm_eq_weights)), 3) == 4.249940482002682e+20, 'Не верно реализован расчёт'"
   ]
  },
  {
   "cell_type": "code",
   "execution_count": 32,
   "metadata": {
    "id": "qKSL2tzX0Oam"
   },
   "outputs": [],
   "source": [
    "# Просто выполнить\n",
    "LinReg = LinearRegression()\n",
    "LinReg.fit(train_data, train_target)\n",
    "ans1 = LinReg.predict(test_data)"
   ]
  },
  {
   "cell_type": "code",
   "execution_count": 33,
   "metadata": {
    "colab": {
     "base_uri": "https://localhost:8080/",
     "height": 34
    },
    "id": "vOoP29Jx2zZM",
    "outputId": "33ac9048-1ac4-455d-857a-482658dd7f40"
   },
   "outputs": [
    {
     "name": "stdout",
     "output_type": "stream",
     "text": [
      "0.955080898861715\n"
     ]
    }
   ],
   "source": [
    "# Просто выполнить\n",
    "mse = mean_squared_error(test_target, ans1)\n",
    "print(mse)"
   ]
  }
 ],
 "metadata": {
  "colab": {
   "provenance": [],
   "toc_visible": true
  },
  "kernelspec": {
   "display_name": "Python 3 (ipykernel)",
   "language": "python",
   "name": "python3"
  },
  "language_info": {
   "codemirror_mode": {
    "name": "ipython",
    "version": 3
   },
   "file_extension": ".py",
   "mimetype": "text/x-python",
   "name": "python",
   "nbconvert_exporter": "python",
   "pygments_lexer": "ipython3",
   "version": "3.13.1"
  }
 },
 "nbformat": 4,
 "nbformat_minor": 4
}
